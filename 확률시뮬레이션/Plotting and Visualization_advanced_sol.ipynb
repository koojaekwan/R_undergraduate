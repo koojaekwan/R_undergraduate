{
 "cells": [
  {
   "cell_type": "code",
   "execution_count": 11,
   "metadata": {
    "ExecuteTime": {
     "end_time": "2021-05-06T09:05:13.526528Z",
     "start_time": "2021-05-06T09:05:12.987732Z"
    }
   },
   "outputs": [],
   "source": [
    "import numpy as np\n",
    "import matplotlib.pyplot as plt\n",
    "plt.rc('figure', figsize=(10, 6))\n",
    "import pandas as pd\n",
    "import random"
   ]
  },
  {
   "cell_type": "code",
   "execution_count": 2,
   "metadata": {
    "ExecuteTime": {
     "end_time": "2021-05-06T09:05:19.404138Z",
     "start_time": "2021-05-06T09:05:19.400354Z"
    }
   },
   "outputs": [],
   "source": [
    "%matplotlib inline"
   ]
  },
  {
   "cell_type": "markdown",
   "metadata": {},
   "source": [
    "# Plotting and Visualization Exercise"
   ]
  },
  {
   "cell_type": "markdown",
   "metadata": {},
   "source": [
    "### 데이터 설명\n",
    "##### 주어진 donations.csv는 미국의 정치 자금 기부와 관련된 데이터를 포함하고 있습니다.\n",
    "##### 해당 파일에서 주로 살펴볼 데이터(column)는 연방 선거 출마 후보자, 해당 후보자에게 기부하는 기부자, 기부자의 지역 정보, 기부 금액, 기부 날짜 등이 있습니다.\n",
    "##### 해당 데이터를 활용하여 정치 자금 기부 데이터 내 각각에 어떤 관계들이 있는지 파악해보는 문제를 출제합니다."
   ]
  },
  {
   "cell_type": "markdown",
   "metadata": {},
   "source": [
    "#### Q1) 주어진 donations.csv 파일을 불러와 DataFrame을 출력하시오."
   ]
  },
  {
   "cell_type": "code",
   "execution_count": 4,
   "metadata": {
    "ExecuteTime": {
     "end_time": "2021-05-06T09:05:40.401932Z",
     "start_time": "2021-05-06T09:05:33.639010Z"
    }
   },
   "outputs": [
    {
     "name": "stderr",
     "output_type": "stream",
     "text": [
      "/Users/youngseok/opt/anaconda3/lib/python3.8/site-packages/IPython/core/interactiveshell.py:3071: DtypeWarning: Columns (6,12) have mixed types.Specify dtype option on import or set low_memory=False.\n",
      "  has_raised = await self.run_ast_nodes(code_ast.body, cell_name,\n"
     ]
    },
    {
     "data": {
      "text/html": [
       "<div>\n",
       "<style scoped>\n",
       "    .dataframe tbody tr th:only-of-type {\n",
       "        vertical-align: middle;\n",
       "    }\n",
       "\n",
       "    .dataframe tbody tr th {\n",
       "        vertical-align: top;\n",
       "    }\n",
       "\n",
       "    .dataframe thead th {\n",
       "        text-align: right;\n",
       "    }\n",
       "</style>\n",
       "<table border=\"1\" class=\"dataframe\">\n",
       "  <thead>\n",
       "    <tr style=\"text-align: right;\">\n",
       "      <th></th>\n",
       "      <th>cmte_id</th>\n",
       "      <th>cand_id</th>\n",
       "      <th>cand_nm</th>\n",
       "      <th>contbr_nm</th>\n",
       "      <th>contbr_city</th>\n",
       "      <th>contbr_st</th>\n",
       "      <th>contbr_zip</th>\n",
       "      <th>contbr_employer</th>\n",
       "      <th>contbr_occupation</th>\n",
       "      <th>contb_receipt_amt</th>\n",
       "      <th>contb_receipt_dt</th>\n",
       "      <th>receipt_desc</th>\n",
       "      <th>memo_cd</th>\n",
       "      <th>memo_text</th>\n",
       "      <th>form_tp</th>\n",
       "      <th>file_num</th>\n",
       "    </tr>\n",
       "  </thead>\n",
       "  <tbody>\n",
       "    <tr>\n",
       "      <th>0</th>\n",
       "      <td>C00420224</td>\n",
       "      <td>P80002983</td>\n",
       "      <td>Cox, John H</td>\n",
       "      <td>BROWN, CHARLENE</td>\n",
       "      <td>EAGLE RIVER</td>\n",
       "      <td>AK</td>\n",
       "      <td>99577</td>\n",
       "      <td>NaN</td>\n",
       "      <td>STUDENT</td>\n",
       "      <td>25.0</td>\n",
       "      <td>01-MAR-07</td>\n",
       "      <td>NaN</td>\n",
       "      <td>NaN</td>\n",
       "      <td>NaN</td>\n",
       "      <td>SA17A</td>\n",
       "      <td>288757</td>\n",
       "    </tr>\n",
       "    <tr>\n",
       "      <th>1</th>\n",
       "      <td>C00420224</td>\n",
       "      <td>P80002983</td>\n",
       "      <td>Cox, John H</td>\n",
       "      <td>KELLY, RAY</td>\n",
       "      <td>HUNTSVILLE</td>\n",
       "      <td>AL</td>\n",
       "      <td>35801</td>\n",
       "      <td>ARKTECH</td>\n",
       "      <td>RETIRED</td>\n",
       "      <td>25.0</td>\n",
       "      <td>25-JAN-07</td>\n",
       "      <td>NaN</td>\n",
       "      <td>NaN</td>\n",
       "      <td>NaN</td>\n",
       "      <td>SA17A</td>\n",
       "      <td>288757</td>\n",
       "    </tr>\n",
       "    <tr>\n",
       "      <th>2</th>\n",
       "      <td>C00420224</td>\n",
       "      <td>P80002983</td>\n",
       "      <td>Cox, John H</td>\n",
       "      <td>CINGEL, KEITH</td>\n",
       "      <td>SEVERN</td>\n",
       "      <td>AL</td>\n",
       "      <td>20999</td>\n",
       "      <td>SANTA CLAUS</td>\n",
       "      <td>SNOWMAN</td>\n",
       "      <td>50.0</td>\n",
       "      <td>17-MAY-07</td>\n",
       "      <td>NaN</td>\n",
       "      <td>NaN</td>\n",
       "      <td>NaN</td>\n",
       "      <td>SA17A</td>\n",
       "      <td>305408</td>\n",
       "    </tr>\n",
       "    <tr>\n",
       "      <th>3</th>\n",
       "      <td>C00420224</td>\n",
       "      <td>P80002983</td>\n",
       "      <td>Cox, John H</td>\n",
       "      <td>DUNAWAY, JONATHON</td>\n",
       "      <td>DEATSVILLE</td>\n",
       "      <td>AL</td>\n",
       "      <td>36022</td>\n",
       "      <td>CSC</td>\n",
       "      <td>TECHNICAL MANAGER</td>\n",
       "      <td>10.0</td>\n",
       "      <td>18-JAN-07</td>\n",
       "      <td>NaN</td>\n",
       "      <td>NaN</td>\n",
       "      <td>NaN</td>\n",
       "      <td>SA17A</td>\n",
       "      <td>288757</td>\n",
       "    </tr>\n",
       "    <tr>\n",
       "      <th>4</th>\n",
       "      <td>C00420224</td>\n",
       "      <td>P80002983</td>\n",
       "      <td>Cox, John H</td>\n",
       "      <td>TERRY, R.S. MR. SR.</td>\n",
       "      <td>SHEFFIELD</td>\n",
       "      <td>AL</td>\n",
       "      <td>35660</td>\n",
       "      <td>RETIRED</td>\n",
       "      <td>NaN</td>\n",
       "      <td>25.0</td>\n",
       "      <td>18-JAN-07</td>\n",
       "      <td>NaN</td>\n",
       "      <td>NaN</td>\n",
       "      <td>NaN</td>\n",
       "      <td>SA17A</td>\n",
       "      <td>288757</td>\n",
       "    </tr>\n",
       "  </tbody>\n",
       "</table>\n",
       "</div>"
      ],
      "text/plain": [
       "     cmte_id    cand_id      cand_nm            contbr_nm  contbr_city  \\\n",
       "0  C00420224  P80002983  Cox, John H      BROWN, CHARLENE  EAGLE RIVER   \n",
       "1  C00420224  P80002983  Cox, John H           KELLY, RAY   HUNTSVILLE   \n",
       "2  C00420224  P80002983  Cox, John H        CINGEL, KEITH       SEVERN   \n",
       "3  C00420224  P80002983  Cox, John H    DUNAWAY, JONATHON   DEATSVILLE   \n",
       "4  C00420224  P80002983  Cox, John H  TERRY, R.S. MR. SR.    SHEFFIELD   \n",
       "\n",
       "  contbr_st contbr_zip contbr_employer  contbr_occupation  contb_receipt_amt  \\\n",
       "0        AK      99577             NaN            STUDENT               25.0   \n",
       "1        AL      35801         ARKTECH            RETIRED               25.0   \n",
       "2        AL      20999     SANTA CLAUS            SNOWMAN               50.0   \n",
       "3        AL      36022             CSC  TECHNICAL MANAGER               10.0   \n",
       "4        AL      35660         RETIRED                NaN               25.0   \n",
       "\n",
       "  contb_receipt_dt receipt_desc memo_cd memo_text form_tp  file_num  \n",
       "0        01-MAR-07          NaN     NaN       NaN   SA17A    288757  \n",
       "1        25-JAN-07          NaN     NaN       NaN   SA17A    288757  \n",
       "2        17-MAY-07          NaN     NaN       NaN   SA17A    305408  \n",
       "3        18-JAN-07          NaN     NaN       NaN   SA17A    288757  \n",
       "4        18-JAN-07          NaN     NaN       NaN   SA17A    288757  "
      ]
     },
     "execution_count": 4,
     "metadata": {},
     "output_type": "execute_result"
    }
   ],
   "source": [
    "df = pd.read_csv('./donations.csv')\n",
    "df.head()"
   ]
  },
  {
   "cell_type": "markdown",
   "metadata": {},
   "source": [
    "#### Q2) 불러온 data에 대해 아래에 해당하는 간략한 정보를 출력하시오.\n",
    "- data의 row 개수는 몇 개인가?\n",
    "- data의 column들은 몇 개이고 각 column들의 이름은 무엇인가?"
   ]
  },
  {
   "cell_type": "code",
   "execution_count": 5,
   "metadata": {
    "ExecuteTime": {
     "end_time": "2021-05-06T09:05:44.750316Z",
     "start_time": "2021-05-06T09:05:44.742807Z"
    }
   },
   "outputs": [
    {
     "name": "stdout",
     "output_type": "stream",
     "text": [
      "데이터 row 개수: 4084074\n",
      "데이터 column 개수: 16\n",
      "데이터 column 명: ['cmte_id', 'cand_id', 'cand_nm', 'contbr_nm', 'contbr_city', 'contbr_st', 'contbr_zip', 'contbr_employer', 'contbr_occupation', 'contb_receipt_amt', 'contb_receipt_dt', 'receipt_desc', 'memo_cd', 'memo_text', 'form_tp', 'file_num']\n"
     ]
    }
   ],
   "source": [
    "print('데이터 row 개수:', len(df))\n",
    "print('데이터 column 개수:', len(list(df.columns)))\n",
    "print('데이터 column 명:', list(df.columns))"
   ]
  },
  {
   "cell_type": "markdown",
   "metadata": {},
   "source": [
    "#### Q3) 불러온 데이터가 너무 커 랜덤으로 row를 추출해 사이즈를 4000개로 줄이시오."
   ]
  },
  {
   "cell_type": "markdown",
   "metadata": {},
   "source": [
    "- DataFrame 내재함수인 sample을 사용하여 4000개 row를 임의로 선정해 새로운 DataFrame에 저장하시오.\n",
    "    - DataFrame을 만든 후 index를 다시 생성하시오. (기존 index는 제거)"
   ]
  },
  {
   "cell_type": "code",
   "execution_count": 44,
   "metadata": {},
   "outputs": [
    {
     "data": {
      "text/html": [
       "<div>\n",
       "<style scoped>\n",
       "    .dataframe tbody tr th:only-of-type {\n",
       "        vertical-align: middle;\n",
       "    }\n",
       "\n",
       "    .dataframe tbody tr th {\n",
       "        vertical-align: top;\n",
       "    }\n",
       "\n",
       "    .dataframe thead th {\n",
       "        text-align: right;\n",
       "    }\n",
       "</style>\n",
       "<table border=\"1\" class=\"dataframe\">\n",
       "  <thead>\n",
       "    <tr style=\"text-align: right;\">\n",
       "      <th></th>\n",
       "      <th>cmte_id</th>\n",
       "      <th>cand_id</th>\n",
       "      <th>cand_nm</th>\n",
       "      <th>contbr_nm</th>\n",
       "      <th>contbr_city</th>\n",
       "      <th>contbr_st</th>\n",
       "      <th>contbr_zip</th>\n",
       "      <th>contbr_employer</th>\n",
       "      <th>contbr_occupation</th>\n",
       "      <th>contb_receipt_amt</th>\n",
       "      <th>contb_receipt_dt</th>\n",
       "      <th>receipt_desc</th>\n",
       "      <th>memo_cd</th>\n",
       "      <th>memo_text</th>\n",
       "      <th>form_tp</th>\n",
       "      <th>file_num</th>\n",
       "    </tr>\n",
       "  </thead>\n",
       "  <tbody>\n",
       "    <tr>\n",
       "      <th>0</th>\n",
       "      <td>C00446104</td>\n",
       "      <td>P80002801</td>\n",
       "      <td>McCain, John S</td>\n",
       "      <td>MEYER, MARY JO MS.</td>\n",
       "      <td>SAN ANTONIO</td>\n",
       "      <td>TX</td>\n",
       "      <td>782251748</td>\n",
       "      <td>NaN</td>\n",
       "      <td>RETIRED</td>\n",
       "      <td>100.0</td>\n",
       "      <td>28-OCT-08</td>\n",
       "      <td>REDESIGNATION FROM PRIMARY</td>\n",
       "      <td>X</td>\n",
       "      <td>REDESIGNATION FROM PRIMARY</td>\n",
       "      <td>SA18</td>\n",
       "      <td>438755</td>\n",
       "    </tr>\n",
       "    <tr>\n",
       "      <th>1</th>\n",
       "      <td>C00431445</td>\n",
       "      <td>P80003338</td>\n",
       "      <td>Obama, Barack</td>\n",
       "      <td>AGOSTINELLI, ROBERT</td>\n",
       "      <td>LEWISTOWN</td>\n",
       "      <td>MT</td>\n",
       "      <td>594578655</td>\n",
       "      <td>ALBERTSONS</td>\n",
       "      <td>STORE DIRECTOR</td>\n",
       "      <td>100.0</td>\n",
       "      <td>31-JUL-08</td>\n",
       "      <td>NaN</td>\n",
       "      <td>NaN</td>\n",
       "      <td>NaN</td>\n",
       "      <td>SA17A</td>\n",
       "      <td>753761</td>\n",
       "    </tr>\n",
       "    <tr>\n",
       "      <th>2</th>\n",
       "      <td>C00431205</td>\n",
       "      <td>P40002347</td>\n",
       "      <td>Edwards, John</td>\n",
       "      <td>CRAWFORD, ELIZABETH</td>\n",
       "      <td>FULLERTON</td>\n",
       "      <td>CA</td>\n",
       "      <td>9.28321e+08</td>\n",
       "      <td>SELF EMPLOYED</td>\n",
       "      <td>INFORMATION REQESTED</td>\n",
       "      <td>50.0</td>\n",
       "      <td>29-NOV-07</td>\n",
       "      <td>NaN</td>\n",
       "      <td>NaN</td>\n",
       "      <td>NaN</td>\n",
       "      <td>SA17A</td>\n",
       "      <td>328622</td>\n",
       "    </tr>\n",
       "    <tr>\n",
       "      <th>3</th>\n",
       "      <td>C00431445</td>\n",
       "      <td>P80003338</td>\n",
       "      <td>Obama, Barack</td>\n",
       "      <td>VAN VALIN, MARY</td>\n",
       "      <td>TRAVERSE CITY</td>\n",
       "      <td>MI</td>\n",
       "      <td>4.96862e+08</td>\n",
       "      <td>NOT EMPLOYED</td>\n",
       "      <td>RETIRED</td>\n",
       "      <td>50.0</td>\n",
       "      <td>19-SEP-08</td>\n",
       "      <td>NaN</td>\n",
       "      <td>NaN</td>\n",
       "      <td>NaN</td>\n",
       "      <td>SA17A</td>\n",
       "      <td>753817</td>\n",
       "    </tr>\n",
       "    <tr>\n",
       "      <th>4</th>\n",
       "      <td>C00430470</td>\n",
       "      <td>P80002801</td>\n",
       "      <td>McCain, John S</td>\n",
       "      <td>HOWE, DAVID F. MR.</td>\n",
       "      <td>NORTH EASTON</td>\n",
       "      <td>MA</td>\n",
       "      <td>23561023</td>\n",
       "      <td>J. DERENZO COMPANY</td>\n",
       "      <td>EXECUTIVE</td>\n",
       "      <td>1000.0</td>\n",
       "      <td>25-JAN-08</td>\n",
       "      <td>NaN</td>\n",
       "      <td>NaN</td>\n",
       "      <td>NaN</td>\n",
       "      <td>SA17A</td>\n",
       "      <td>385937</td>\n",
       "    </tr>\n",
       "    <tr>\n",
       "      <th>...</th>\n",
       "      <td>...</td>\n",
       "      <td>...</td>\n",
       "      <td>...</td>\n",
       "      <td>...</td>\n",
       "      <td>...</td>\n",
       "      <td>...</td>\n",
       "      <td>...</td>\n",
       "      <td>...</td>\n",
       "      <td>...</td>\n",
       "      <td>...</td>\n",
       "      <td>...</td>\n",
       "      <td>...</td>\n",
       "      <td>...</td>\n",
       "      <td>...</td>\n",
       "      <td>...</td>\n",
       "      <td>...</td>\n",
       "    </tr>\n",
       "    <tr>\n",
       "      <th>3995</th>\n",
       "      <td>C00431445</td>\n",
       "      <td>P80003338</td>\n",
       "      <td>Obama, Barack</td>\n",
       "      <td>KEES, DAVID</td>\n",
       "      <td>CHAMPAIGN</td>\n",
       "      <td>IL</td>\n",
       "      <td>6.18215e+08</td>\n",
       "      <td>UNVIERSITY OF ILLINOIS</td>\n",
       "      <td>WEB AND DATABASE PROGRAMMER</td>\n",
       "      <td>25.0</td>\n",
       "      <td>20-JUN-08</td>\n",
       "      <td>NaN</td>\n",
       "      <td>NaN</td>\n",
       "      <td>NaN</td>\n",
       "      <td>SA17A</td>\n",
       "      <td>753769</td>\n",
       "    </tr>\n",
       "    <tr>\n",
       "      <th>3996</th>\n",
       "      <td>C00430470</td>\n",
       "      <td>P80002801</td>\n",
       "      <td>McCain, John S</td>\n",
       "      <td>RUSSELL, KENNETH B. MR. USN (RET)</td>\n",
       "      <td>EAST BOOTHBAY</td>\n",
       "      <td>ME</td>\n",
       "      <td>45440137</td>\n",
       "      <td>NaN</td>\n",
       "      <td>RETIRED</td>\n",
       "      <td>50.0</td>\n",
       "      <td>17-MAR-08</td>\n",
       "      <td>NaN</td>\n",
       "      <td>NaN</td>\n",
       "      <td>NaN</td>\n",
       "      <td>SA17A</td>\n",
       "      <td>346233</td>\n",
       "    </tr>\n",
       "    <tr>\n",
       "      <th>3997</th>\n",
       "      <td>C00431445</td>\n",
       "      <td>P80003338</td>\n",
       "      <td>Obama, Barack</td>\n",
       "      <td>METZL, JAMIE</td>\n",
       "      <td>NEW YORK</td>\n",
       "      <td>NY</td>\n",
       "      <td>10028</td>\n",
       "      <td>ASIA SOCIETY</td>\n",
       "      <td>EXECUTIVE</td>\n",
       "      <td>250.0</td>\n",
       "      <td>03-DEC-07</td>\n",
       "      <td>NaN</td>\n",
       "      <td>NaN</td>\n",
       "      <td>NaN</td>\n",
       "      <td>SA17A</td>\n",
       "      <td>360400</td>\n",
       "    </tr>\n",
       "    <tr>\n",
       "      <th>3998</th>\n",
       "      <td>C00431577</td>\n",
       "      <td>P80003411</td>\n",
       "      <td>Richardson, Bill</td>\n",
       "      <td>HEMRIC, HARVEY</td>\n",
       "      <td>BURLINGTON</td>\n",
       "      <td>NC</td>\n",
       "      <td>27215</td>\n",
       "      <td>SELF-EMPLOYED</td>\n",
       "      <td>MOBILE HOME PARK OWNER</td>\n",
       "      <td>250.0</td>\n",
       "      <td>08-NOV-07</td>\n",
       "      <td>NaN</td>\n",
       "      <td>NaN</td>\n",
       "      <td>NaN</td>\n",
       "      <td>SA17A</td>\n",
       "      <td>329023</td>\n",
       "    </tr>\n",
       "    <tr>\n",
       "      <th>3999</th>\n",
       "      <td>C00431445</td>\n",
       "      <td>P80003338</td>\n",
       "      <td>Obama, Barack</td>\n",
       "      <td>MOSS, ADRIENNE</td>\n",
       "      <td>CALABASAS</td>\n",
       "      <td>CA</td>\n",
       "      <td>913023018</td>\n",
       "      <td>SELF EMPLOYED</td>\n",
       "      <td>ATTORNEY</td>\n",
       "      <td>100.0</td>\n",
       "      <td>03-NOV-08</td>\n",
       "      <td>NaN</td>\n",
       "      <td>X</td>\n",
       "      <td>OVF TRANSFER</td>\n",
       "      <td>SA18</td>\n",
       "      <td>754317</td>\n",
       "    </tr>\n",
       "  </tbody>\n",
       "</table>\n",
       "<p>4000 rows × 16 columns</p>\n",
       "</div>"
      ],
      "text/plain": [
       "        cmte_id    cand_id           cand_nm  \\\n",
       "0     C00446104  P80002801    McCain, John S   \n",
       "1     C00431445  P80003338     Obama, Barack   \n",
       "2     C00431205  P40002347     Edwards, John   \n",
       "3     C00431445  P80003338     Obama, Barack   \n",
       "4     C00430470  P80002801    McCain, John S   \n",
       "...         ...        ...               ...   \n",
       "3995  C00431445  P80003338     Obama, Barack   \n",
       "3996  C00430470  P80002801    McCain, John S   \n",
       "3997  C00431445  P80003338     Obama, Barack   \n",
       "3998  C00431577  P80003411  Richardson, Bill   \n",
       "3999  C00431445  P80003338     Obama, Barack   \n",
       "\n",
       "                              contbr_nm    contbr_city contbr_st   contbr_zip  \\\n",
       "0                    MEYER, MARY JO MS.    SAN ANTONIO        TX    782251748   \n",
       "1                   AGOSTINELLI, ROBERT      LEWISTOWN        MT    594578655   \n",
       "2                   CRAWFORD, ELIZABETH      FULLERTON        CA  9.28321e+08   \n",
       "3                       VAN VALIN, MARY  TRAVERSE CITY        MI  4.96862e+08   \n",
       "4                    HOWE, DAVID F. MR.   NORTH EASTON        MA     23561023   \n",
       "...                                 ...            ...       ...          ...   \n",
       "3995                        KEES, DAVID      CHAMPAIGN        IL  6.18215e+08   \n",
       "3996  RUSSELL, KENNETH B. MR. USN (RET)  EAST BOOTHBAY        ME     45440137   \n",
       "3997                       METZL, JAMIE       NEW YORK        NY        10028   \n",
       "3998                     HEMRIC, HARVEY     BURLINGTON        NC        27215   \n",
       "3999                     MOSS, ADRIENNE      CALABASAS        CA    913023018   \n",
       "\n",
       "             contbr_employer            contbr_occupation  contb_receipt_amt  \\\n",
       "0                        NaN                      RETIRED              100.0   \n",
       "1                 ALBERTSONS               STORE DIRECTOR              100.0   \n",
       "2              SELF EMPLOYED         INFORMATION REQESTED               50.0   \n",
       "3               NOT EMPLOYED                      RETIRED               50.0   \n",
       "4         J. DERENZO COMPANY                    EXECUTIVE             1000.0   \n",
       "...                      ...                          ...                ...   \n",
       "3995  UNVIERSITY OF ILLINOIS  WEB AND DATABASE PROGRAMMER               25.0   \n",
       "3996                     NaN                      RETIRED               50.0   \n",
       "3997            ASIA SOCIETY                    EXECUTIVE              250.0   \n",
       "3998           SELF-EMPLOYED       MOBILE HOME PARK OWNER              250.0   \n",
       "3999           SELF EMPLOYED                     ATTORNEY              100.0   \n",
       "\n",
       "     contb_receipt_dt                receipt_desc memo_cd  \\\n",
       "0           28-OCT-08  REDESIGNATION FROM PRIMARY       X   \n",
       "1           31-JUL-08                         NaN     NaN   \n",
       "2           29-NOV-07                         NaN     NaN   \n",
       "3           19-SEP-08                         NaN     NaN   \n",
       "4           25-JAN-08                         NaN     NaN   \n",
       "...               ...                         ...     ...   \n",
       "3995        20-JUN-08                         NaN     NaN   \n",
       "3996        17-MAR-08                         NaN     NaN   \n",
       "3997        03-DEC-07                         NaN     NaN   \n",
       "3998        08-NOV-07                         NaN     NaN   \n",
       "3999        03-NOV-08                         NaN       X   \n",
       "\n",
       "                       memo_text form_tp  file_num  \n",
       "0     REDESIGNATION FROM PRIMARY    SA18    438755  \n",
       "1                            NaN   SA17A    753761  \n",
       "2                            NaN   SA17A    328622  \n",
       "3                            NaN   SA17A    753817  \n",
       "4                            NaN   SA17A    385937  \n",
       "...                          ...     ...       ...  \n",
       "3995                         NaN   SA17A    753769  \n",
       "3996                         NaN   SA17A    346233  \n",
       "3997                         NaN   SA17A    360400  \n",
       "3998                         NaN   SA17A    329023  \n",
       "3999                OVF TRANSFER    SA18    754317  \n",
       "\n",
       "[4000 rows x 16 columns]"
      ]
     },
     "execution_count": 44,
     "metadata": {},
     "output_type": "execute_result"
    }
   ],
   "source": [
    "ndf = df.sample(n=4000).reset_index(drop=True)\n",
    "ndf"
   ]
  },
  {
   "cell_type": "markdown",
   "metadata": {},
   "source": [
    "### 아래 문제부터는 특별한 언급이 없을 시, 축소한 DataFrame (rows=4000)을 사용하여 결과를 구하시오."
   ]
  },
  {
   "cell_type": "markdown",
   "metadata": {},
   "source": [
    "### 각 후보의 금액을 보는 것은 해당 데이터 분석에 있어 흥미로운 정보들일 것 같습니다.\n",
    "#### Q4) 'contb_receipt_amount'를 사용하여 후보자 별 평균 기부 금액을 계산하시오.\n",
    "- groupby() 함수 사용"
   ]
  },
  {
   "cell_type": "code",
   "execution_count": 60,
   "metadata": {},
   "outputs": [
    {
     "data": {
      "text/plain": [
       "cand_nm\n",
       "Biden, Joseph R Jr         714.583333\n",
       "Brownback, Samuel Dale      78.750000\n",
       "Clinton, Hillary Rodham    264.050231\n",
       "Dodd, Christopher J        915.480000\n",
       "Edwards, John              263.441558\n",
       "Giuliani, Rudolph W        925.000000\n",
       "Gravel, Mike               100.000000\n",
       "Huckabee, Mike             515.819394\n",
       "Hunter, Duncan             775.000000\n",
       "Kucinich, Dennis J         144.615385\n",
       "McCain, John S             361.950063\n",
       "Obama, Barack              181.826754\n",
       "Paul, Ron                  151.669012\n",
       "Richardson, Bill           505.000000\n",
       "Romney, Mitt               530.422535\n",
       "Tancredo, Thomas Gerald     97.692308\n",
       "Thompson, Fred Dalton      445.370370\n",
       "Name: contb_receipt_amt, dtype: float64"
      ]
     },
     "execution_count": 60,
     "metadata": {},
     "output_type": "execute_result"
    }
   ],
   "source": [
    "groups = ndf.groupby(\"cand_nm\")['contb_receipt_amt']\n",
    "groups.mean()"
   ]
  },
  {
   "cell_type": "markdown",
   "metadata": {},
   "source": [
    "#### Q5) 'contb_receipt_amount'를 사용하여 후보자가 얼마나 많은 금액을 기부받았는지 histogram을 그려 확인하시오.\n",
    "- 어떤 후보의 histogram인지 알기 위해 legend를 함께 보이시오.\n",
    "- 겹쳐진 histogram의 구분을 위해 투명도를 적용하시오."
   ]
  },
  {
   "cell_type": "code",
   "execution_count": 61,
   "metadata": {},
   "outputs": [
    {
     "data": {
      "text/plain": [
       "<matplotlib.legend.Legend at 0x7fd3d60e68e0>"
      ]
     },
     "execution_count": 61,
     "metadata": {},
     "output_type": "execute_result"
    },
    {
     "data": {
      "image/png": "[encoded data removed]",
      "text/plain": [
       "<Figure size 720x432 with 1 Axes>"
      ]
     },
     "metadata": {
      "needs_background": "light"
     },
     "output_type": "display_data"
    }
   ],
   "source": [
    "fig, ax = plt.subplots()\n",
    "\n",
    "for k, v in groups:\n",
    "    v.hist(label=k, alpha=.6, ax=ax)\n",
    "\n",
    "ax.legend()"
   ]
  },
  {
   "cell_type": "markdown",
   "metadata": {},
   "source": [
    "##### Explain)\n",
    "위 그래프를 통해 Obama와 Clinton, McCain이 많은 기부금을 받았음을 확인할 수 있습니다. 특히 적은 금액을 기부한 기부자들과 높은 금액을 기부한 기부자들 모두 Obama에 대한 기부가 가장 많았음을 확인할 수 있습니다."
   ]
  },
  {
   "cell_type": "markdown",
   "metadata": {},
   "source": [
    "### 이제 일별 총 기부 금액을 계산하고 차트를 그리려고 합니다.\n",
    "#### Q5) 'contb_receipt_dt'의 data type을 datetime으로 변경하시오."
   ]
  },
  {
   "cell_type": "code",
   "execution_count": 62,
   "metadata": {},
   "outputs": [
    {
     "data": {
      "text/plain": [
       "0      2008-10-28\n",
       "1      2008-07-31\n",
       "2      2007-11-29\n",
       "3      2008-09-19\n",
       "4      2008-01-25\n",
       "          ...    \n",
       "3995   2008-06-20\n",
       "3996   2008-03-17\n",
       "3997   2007-12-03\n",
       "3998   2007-11-08\n",
       "3999   2008-11-03\n",
       "Name: contb_receipt_dt, Length: 4000, dtype: datetime64[ns]"
      ]
     },
     "execution_count": 62,
     "metadata": {},
     "output_type": "execute_result"
    }
   ],
   "source": [
    "ndf['contb_receipt_dt'] = pd.to_datetime(ndf['contb_receipt_dt'])\n",
    "ndf['contb_receipt_dt']"
   ]
  },
  {
   "cell_type": "markdown",
   "metadata": {},
   "source": [
    "#### Q6) 'Obama, Barack'을 cand_nm으로 가지는 DataFrame을 따로 저장하고 출력하시오."
   ]
  },
  {
   "cell_type": "code",
   "execution_count": 64,
   "metadata": {},
   "outputs": [
    {
     "data": {
      "text/html": [
       "<div>\n",
       "<style scoped>\n",
       "    .dataframe tbody tr th:only-of-type {\n",
       "        vertical-align: middle;\n",
       "    }\n",
       "\n",
       "    .dataframe tbody tr th {\n",
       "        vertical-align: top;\n",
       "    }\n",
       "\n",
       "    .dataframe thead th {\n",
       "        text-align: right;\n",
       "    }\n",
       "</style>\n",
       "<table border=\"1\" class=\"dataframe\">\n",
       "  <thead>\n",
       "    <tr style=\"text-align: right;\">\n",
       "      <th></th>\n",
       "      <th>cmte_id</th>\n",
       "      <th>cand_id</th>\n",
       "      <th>cand_nm</th>\n",
       "      <th>contbr_nm</th>\n",
       "      <th>contbr_city</th>\n",
       "      <th>contbr_st</th>\n",
       "      <th>contbr_zip</th>\n",
       "      <th>contbr_employer</th>\n",
       "      <th>contbr_occupation</th>\n",
       "      <th>contb_receipt_amt</th>\n",
       "      <th>contb_receipt_dt</th>\n",
       "      <th>receipt_desc</th>\n",
       "      <th>memo_cd</th>\n",
       "      <th>memo_text</th>\n",
       "      <th>form_tp</th>\n",
       "      <th>file_num</th>\n",
       "    </tr>\n",
       "  </thead>\n",
       "  <tbody>\n",
       "    <tr>\n",
       "      <th>1</th>\n",
       "      <td>C00431445</td>\n",
       "      <td>P80003338</td>\n",
       "      <td>Obama, Barack</td>\n",
       "      <td>AGOSTINELLI, ROBERT</td>\n",
       "      <td>LEWISTOWN</td>\n",
       "      <td>MT</td>\n",
       "      <td>594578655</td>\n",
       "      <td>ALBERTSONS</td>\n",
       "      <td>STORE DIRECTOR</td>\n",
       "      <td>100.00</td>\n",
       "      <td>2008-07-31</td>\n",
       "      <td>NaN</td>\n",
       "      <td>NaN</td>\n",
       "      <td>NaN</td>\n",
       "      <td>SA17A</td>\n",
       "      <td>753761</td>\n",
       "    </tr>\n",
       "    <tr>\n",
       "      <th>3</th>\n",
       "      <td>C00431445</td>\n",
       "      <td>P80003338</td>\n",
       "      <td>Obama, Barack</td>\n",
       "      <td>VAN VALIN, MARY</td>\n",
       "      <td>TRAVERSE CITY</td>\n",
       "      <td>MI</td>\n",
       "      <td>4.96862e+08</td>\n",
       "      <td>NOT EMPLOYED</td>\n",
       "      <td>RETIRED</td>\n",
       "      <td>50.00</td>\n",
       "      <td>2008-09-19</td>\n",
       "      <td>NaN</td>\n",
       "      <td>NaN</td>\n",
       "      <td>NaN</td>\n",
       "      <td>SA17A</td>\n",
       "      <td>753817</td>\n",
       "    </tr>\n",
       "    <tr>\n",
       "      <th>7</th>\n",
       "      <td>C00431445</td>\n",
       "      <td>P80003338</td>\n",
       "      <td>Obama, Barack</td>\n",
       "      <td>HEMSLEY, HOWARD</td>\n",
       "      <td>NEW YORK</td>\n",
       "      <td>NY</td>\n",
       "      <td>100039307</td>\n",
       "      <td>SIMPSON THACHER</td>\n",
       "      <td>WORD PROCESSOR</td>\n",
       "      <td>-468.18</td>\n",
       "      <td>2008-04-15</td>\n",
       "      <td>REDESIGNATION FROM</td>\n",
       "      <td>NaN</td>\n",
       "      <td>REDESIGNATION FROM</td>\n",
       "      <td>SA17A</td>\n",
       "      <td>753671</td>\n",
       "    </tr>\n",
       "    <tr>\n",
       "      <th>8</th>\n",
       "      <td>C00431445</td>\n",
       "      <td>P80003338</td>\n",
       "      <td>Obama, Barack</td>\n",
       "      <td>GIRSCH, KATHY</td>\n",
       "      <td>SALEM</td>\n",
       "      <td>OR</td>\n",
       "      <td>973024315</td>\n",
       "      <td>OREGON STATE UNIVERSITY</td>\n",
       "      <td>TEACHER</td>\n",
       "      <td>50.00</td>\n",
       "      <td>2008-07-04</td>\n",
       "      <td>NaN</td>\n",
       "      <td>NaN</td>\n",
       "      <td>NaN</td>\n",
       "      <td>SA17A</td>\n",
       "      <td>753761</td>\n",
       "    </tr>\n",
       "    <tr>\n",
       "      <th>11</th>\n",
       "      <td>C00431445</td>\n",
       "      <td>P80003338</td>\n",
       "      <td>Obama, Barack</td>\n",
       "      <td>ENGE, DOROTHY MS.</td>\n",
       "      <td>PRAIRIE DU SAC</td>\n",
       "      <td>WI</td>\n",
       "      <td>535782050</td>\n",
       "      <td>NOT EMPLOYED</td>\n",
       "      <td>RETIRED</td>\n",
       "      <td>50.00</td>\n",
       "      <td>2008-03-20</td>\n",
       "      <td>NaN</td>\n",
       "      <td>NaN</td>\n",
       "      <td>NaN</td>\n",
       "      <td>SA17A</td>\n",
       "      <td>362085</td>\n",
       "    </tr>\n",
       "    <tr>\n",
       "      <th>...</th>\n",
       "      <td>...</td>\n",
       "      <td>...</td>\n",
       "      <td>...</td>\n",
       "      <td>...</td>\n",
       "      <td>...</td>\n",
       "      <td>...</td>\n",
       "      <td>...</td>\n",
       "      <td>...</td>\n",
       "      <td>...</td>\n",
       "      <td>...</td>\n",
       "      <td>...</td>\n",
       "      <td>...</td>\n",
       "      <td>...</td>\n",
       "      <td>...</td>\n",
       "      <td>...</td>\n",
       "      <td>...</td>\n",
       "    </tr>\n",
       "    <tr>\n",
       "      <th>3993</th>\n",
       "      <td>C00431445</td>\n",
       "      <td>P80003338</td>\n",
       "      <td>Obama, Barack</td>\n",
       "      <td>VOORHEES, SCOTT</td>\n",
       "      <td>WOODBRIDGE</td>\n",
       "      <td>VA</td>\n",
       "      <td>221922806</td>\n",
       "      <td>STORED SOLAR LTD.</td>\n",
       "      <td>DESIGN ENGINEER</td>\n",
       "      <td>250.00</td>\n",
       "      <td>2008-03-13</td>\n",
       "      <td>NaN</td>\n",
       "      <td>NaN</td>\n",
       "      <td>NaN</td>\n",
       "      <td>SA17A</td>\n",
       "      <td>362085</td>\n",
       "    </tr>\n",
       "    <tr>\n",
       "      <th>3994</th>\n",
       "      <td>C00431445</td>\n",
       "      <td>P80003338</td>\n",
       "      <td>Obama, Barack</td>\n",
       "      <td>WEBSTER, NANCY</td>\n",
       "      <td>MADISON</td>\n",
       "      <td>WI</td>\n",
       "      <td>537264017</td>\n",
       "      <td>NOT EMPLOYED</td>\n",
       "      <td>RETIRED</td>\n",
       "      <td>5.00</td>\n",
       "      <td>2008-10-17</td>\n",
       "      <td>NaN</td>\n",
       "      <td>NaN</td>\n",
       "      <td>NaN</td>\n",
       "      <td>SA17A</td>\n",
       "      <td>754317</td>\n",
       "    </tr>\n",
       "    <tr>\n",
       "      <th>3995</th>\n",
       "      <td>C00431445</td>\n",
       "      <td>P80003338</td>\n",
       "      <td>Obama, Barack</td>\n",
       "      <td>KEES, DAVID</td>\n",
       "      <td>CHAMPAIGN</td>\n",
       "      <td>IL</td>\n",
       "      <td>6.18215e+08</td>\n",
       "      <td>UNVIERSITY OF ILLINOIS</td>\n",
       "      <td>WEB AND DATABASE PROGRAMMER</td>\n",
       "      <td>25.00</td>\n",
       "      <td>2008-06-20</td>\n",
       "      <td>NaN</td>\n",
       "      <td>NaN</td>\n",
       "      <td>NaN</td>\n",
       "      <td>SA17A</td>\n",
       "      <td>753769</td>\n",
       "    </tr>\n",
       "    <tr>\n",
       "      <th>3997</th>\n",
       "      <td>C00431445</td>\n",
       "      <td>P80003338</td>\n",
       "      <td>Obama, Barack</td>\n",
       "      <td>METZL, JAMIE</td>\n",
       "      <td>NEW YORK</td>\n",
       "      <td>NY</td>\n",
       "      <td>10028</td>\n",
       "      <td>ASIA SOCIETY</td>\n",
       "      <td>EXECUTIVE</td>\n",
       "      <td>250.00</td>\n",
       "      <td>2007-12-03</td>\n",
       "      <td>NaN</td>\n",
       "      <td>NaN</td>\n",
       "      <td>NaN</td>\n",
       "      <td>SA17A</td>\n",
       "      <td>360400</td>\n",
       "    </tr>\n",
       "    <tr>\n",
       "      <th>3999</th>\n",
       "      <td>C00431445</td>\n",
       "      <td>P80003338</td>\n",
       "      <td>Obama, Barack</td>\n",
       "      <td>MOSS, ADRIENNE</td>\n",
       "      <td>CALABASAS</td>\n",
       "      <td>CA</td>\n",
       "      <td>913023018</td>\n",
       "      <td>SELF EMPLOYED</td>\n",
       "      <td>ATTORNEY</td>\n",
       "      <td>100.00</td>\n",
       "      <td>2008-11-03</td>\n",
       "      <td>NaN</td>\n",
       "      <td>X</td>\n",
       "      <td>OVF TRANSFER</td>\n",
       "      <td>SA18</td>\n",
       "      <td>754317</td>\n",
       "    </tr>\n",
       "  </tbody>\n",
       "</table>\n",
       "<p>2557 rows × 16 columns</p>\n",
       "</div>"
      ],
      "text/plain": [
       "        cmte_id    cand_id        cand_nm            contbr_nm  \\\n",
       "1     C00431445  P80003338  Obama, Barack  AGOSTINELLI, ROBERT   \n",
       "3     C00431445  P80003338  Obama, Barack      VAN VALIN, MARY   \n",
       "7     C00431445  P80003338  Obama, Barack      HEMSLEY, HOWARD   \n",
       "8     C00431445  P80003338  Obama, Barack        GIRSCH, KATHY   \n",
       "11    C00431445  P80003338  Obama, Barack    ENGE, DOROTHY MS.   \n",
       "...         ...        ...            ...                  ...   \n",
       "3993  C00431445  P80003338  Obama, Barack      VOORHEES, SCOTT   \n",
       "3994  C00431445  P80003338  Obama, Barack       WEBSTER, NANCY   \n",
       "3995  C00431445  P80003338  Obama, Barack          KEES, DAVID   \n",
       "3997  C00431445  P80003338  Obama, Barack         METZL, JAMIE   \n",
       "3999  C00431445  P80003338  Obama, Barack       MOSS, ADRIENNE   \n",
       "\n",
       "         contbr_city contbr_st   contbr_zip          contbr_employer  \\\n",
       "1          LEWISTOWN        MT    594578655               ALBERTSONS   \n",
       "3      TRAVERSE CITY        MI  4.96862e+08             NOT EMPLOYED   \n",
       "7           NEW YORK        NY    100039307          SIMPSON THACHER   \n",
       "8              SALEM        OR    973024315  OREGON STATE UNIVERSITY   \n",
       "11    PRAIRIE DU SAC        WI    535782050             NOT EMPLOYED   \n",
       "...              ...       ...          ...                      ...   \n",
       "3993      WOODBRIDGE        VA    221922806        STORED SOLAR LTD.   \n",
       "3994         MADISON        WI    537264017             NOT EMPLOYED   \n",
       "3995       CHAMPAIGN        IL  6.18215e+08   UNVIERSITY OF ILLINOIS   \n",
       "3997        NEW YORK        NY        10028             ASIA SOCIETY   \n",
       "3999       CALABASAS        CA    913023018            SELF EMPLOYED   \n",
       "\n",
       "                contbr_occupation  contb_receipt_amt contb_receipt_dt  \\\n",
       "1                  STORE DIRECTOR             100.00       2008-07-31   \n",
       "3                         RETIRED              50.00       2008-09-19   \n",
       "7                  WORD PROCESSOR            -468.18       2008-04-15   \n",
       "8                         TEACHER              50.00       2008-07-04   \n",
       "11                        RETIRED              50.00       2008-03-20   \n",
       "...                           ...                ...              ...   \n",
       "3993              DESIGN ENGINEER             250.00       2008-03-13   \n",
       "3994                      RETIRED               5.00       2008-10-17   \n",
       "3995  WEB AND DATABASE PROGRAMMER              25.00       2008-06-20   \n",
       "3997                    EXECUTIVE             250.00       2007-12-03   \n",
       "3999                     ATTORNEY             100.00       2008-11-03   \n",
       "\n",
       "            receipt_desc memo_cd           memo_text form_tp  file_num  \n",
       "1                    NaN     NaN                 NaN   SA17A    753761  \n",
       "3                    NaN     NaN                 NaN   SA17A    753817  \n",
       "7     REDESIGNATION FROM     NaN  REDESIGNATION FROM   SA17A    753671  \n",
       "8                    NaN     NaN                 NaN   SA17A    753761  \n",
       "11                   NaN     NaN                 NaN   SA17A    362085  \n",
       "...                  ...     ...                 ...     ...       ...  \n",
       "3993                 NaN     NaN                 NaN   SA17A    362085  \n",
       "3994                 NaN     NaN                 NaN   SA17A    754317  \n",
       "3995                 NaN     NaN                 NaN   SA17A    753769  \n",
       "3997                 NaN     NaN                 NaN   SA17A    360400  \n",
       "3999                 NaN       X        OVF TRANSFER    SA18    754317  \n",
       "\n",
       "[2557 rows x 16 columns]"
      ]
     },
     "execution_count": 64,
     "metadata": {},
     "output_type": "execute_result"
    }
   ],
   "source": [
    "obama_df = ndf[ndf.cand_nm == 'Obama, Barack']\n",
    "obama_df"
   ]
  },
  {
   "cell_type": "markdown",
   "metadata": {},
   "source": [
    "#### Q7)  'Obama, Barack'가 하루마다 받은 기부금액이 얼마나 되는지 그래프를 그리시오.\n",
    "- 위 DataFrame을 날짜로 groupby한 뒤 하루마다 'contb_receipt_amt'의 총합에 대한 plot을 그리시오."
   ]
  },
  {
   "cell_type": "code",
   "execution_count": 65,
   "metadata": {},
   "outputs": [
    {
     "data": {
      "text/plain": [
       "<matplotlib.axes._subplots.AxesSubplot at 0x7fd3f0441850>"
      ]
     },
     "execution_count": 65,
     "metadata": {},
     "output_type": "execute_result"
    },
    {
     "data": {
      "image/png": "[encoded data removed]",
      "text/plain": [
       "<Figure size 720x432 with 1 Axes>"
      ]
     },
     "metadata": {
      "needs_background": "light"
     },
     "output_type": "display_data"
    }
   ],
   "source": [
    "obama_df.groupby(obama_df.contb_receipt_dt)['contb_receipt_amt'].sum().plot()"
   ]
  },
  {
   "cell_type": "markdown",
   "metadata": {},
   "source": [
    "#### Q8)  'Obama, Barack'가 달마다 받은 기부금액이 얼마나 되는지 막대 그래프를 그리시오.\n",
    "- 위 문제와 같은 상황에서 달('M')을 기준으로 resample하여 그래프를 그리시오."
   ]
  },
  {
   "cell_type": "code",
   "execution_count": 74,
   "metadata": {},
   "outputs": [
    {
     "data": {
      "text/plain": [
       "<matplotlib.axes._subplots.AxesSubplot at 0x7fd3d0b23910>"
      ]
     },
     "execution_count": 74,
     "metadata": {},
     "output_type": "execute_result"
    },
    {
     "data": {
      "image/png": "[encoded data removed]",
      "text/plain": [
       "<Figure size 720x432 with 1 Axes>"
      ]
     },
     "metadata": {
      "needs_background": "light"
     },
     "output_type": "display_data"
    }
   ],
   "source": [
    "obama_df.groupby(obama_df.contb_receipt_dt)['contb_receipt_amt'].sum().resample('M').mean().plot(kind='bar')"
   ]
  },
  {
   "cell_type": "markdown",
   "metadata": {},
   "source": [
    "##### Explain)\n",
    "일별, 월별 기부 금액 그래프를 확인해 봤을 때, 기부를 받기 시작한 시점과 경선이 다가오는 시점에서 다른 시점들보다 더 많은 기부가 이루어 졌음을 확인할 수 있습니다."
   ]
  },
  {
   "cell_type": "markdown",
   "metadata": {},
   "source": [
    "### 5번 histogram에서 확인한 결과, Obama와 Clinton, McCain이 가장 지지 받는 후보로 생각할 수 있었습니다. 이중 Obama와 McCain에 대해 두 후보가 받은 기부를 다양한 방식으로 비교해보도록 하겠습니다."
   ]
  },
  {
   "cell_type": "markdown",
   "metadata": {},
   "source": [
    "#### Q9) 위에서 그린 'Obama, Barack'에 대해 하루마다 기부 받은 금액 그래프를 'McCain, John S'에 대해서도 그린 뒤 함께 plot을 출력하시오.\n",
    "- 그래프에 legend를 함께 표현하시오."
   ]
  },
  {
   "cell_type": "code",
   "execution_count": 76,
   "metadata": {},
   "outputs": [
    {
     "data": {
      "text/plain": [
       "<matplotlib.legend.Legend at 0x7fd3f1220610>"
      ]
     },
     "execution_count": 76,
     "metadata": {},
     "output_type": "execute_result"
    },
    {
     "data": {
      "image/png": "[encoded data removed]",
      "text/plain": [
       "<Figure size 720x432 with 1 Axes>"
      ]
     },
     "metadata": {
      "needs_background": "light"
     },
     "output_type": "display_data"
    }
   ],
   "source": [
    "obama_df.groupby(obama_df.contb_receipt_dt)['contb_receipt_amt'].sum().plot(label='Obama, Barack')\n",
    "mccain_df = ndf[ndf.cand_nm == 'McCain, John S']\n",
    "mccain_df.groupby(mccain_df.contb_receipt_dt)['contb_receipt_amt'].sum().plot(label='McCain, John S')\n",
    "plt.legend()"
   ]
  },
  {
   "cell_type": "markdown",
   "metadata": {},
   "source": [
    "##### Explain)\n",
    "해당 그래프를 보면 경선 막바지 이전까지는 두 후보가 비슷한 지지를 받는 것을 확인할 수 있지만 후반부에서 오바마가 보다 많은 기부금을 받는 것을 통해 더 높은 지지도를 보인다는 것을 알 수 있습니다. McCain후보에 대해서는 큰 음의 기부금 데이터도 확인할 수 있는데 이 부분에 대한 분석도 필요할 것 같습니다."
   ]
  },
  {
   "cell_type": "markdown",
   "metadata": {},
   "source": [
    "#### Q10) 'Obama, Barack'과 'McCain, John S'이 받은 누적 기부 금액 그래프를 그리시오.\n",
    "- 그래프에 legend를 함께 표현하시오."
   ]
  },
  {
   "cell_type": "code",
   "execution_count": 77,
   "metadata": {
    "scrolled": false
   },
   "outputs": [
    {
     "data": {
      "text/plain": [
       "<matplotlib.legend.Legend at 0x7fd3f048f3a0>"
      ]
     },
     "execution_count": 77,
     "metadata": {},
     "output_type": "execute_result"
    },
    {
     "data": {
      "image/png": "[encoded data removed]",
      "text/plain": [
       "<Figure size 720x432 with 1 Axes>"
      ]
     },
     "metadata": {
      "needs_background": "light"
     },
     "output_type": "display_data"
    }
   ],
   "source": [
    "np.cumsum(obama_df.groupby(obama_df.contb_receipt_dt)['contb_receipt_amt'].sum()).plot(label='Obama, Barack')\n",
    "np.cumsum(mccain_df.groupby(mccain_df.contb_receipt_dt)['contb_receipt_amt'].sum()).plot(label='McCain, John S')\n",
    "plt.legend()"
   ]
  },
  {
   "cell_type": "markdown",
   "metadata": {},
   "source": [
    "##### Explain)\n",
    "9번 문제 그래프 해석과 마찬가지로 초반부엔 비슷한 양상을 보였지만 후반부로 갈수록 차이가 극심하게 벌어지는 것을 확인할 수 있습니다."
   ]
  },
  {
   "cell_type": "markdown",
   "metadata": {},
   "source": [
    "Q9) Please draw a histogram using 'contb_receipt_amt' for Obama and McCain."
   ]
  },
  {
   "cell_type": "markdown",
   "metadata": {},
   "source": [
    "#### Q11) 'Obama, Barack'과 'McCain, John S'의 'contb_receipt_amt' histogram을 그리시오.\n",
    "- bins=50으로 설정하시오."
   ]
  },
  {
   "cell_type": "code",
   "execution_count": 86,
   "metadata": {},
   "outputs": [
    {
     "data": {
      "text/plain": [
       "<matplotlib.legend.Legend at 0x7fd3a1c88f10>"
      ]
     },
     "execution_count": 86,
     "metadata": {},
     "output_type": "execute_result"
    },
    {
     "data": {
      "image/png": "[encoded data removed]",
      "text/plain": [
       "<Figure size 720x432 with 1 Axes>"
      ]
     },
     "metadata": {
      "needs_background": "light"
     },
     "output_type": "display_data"
    }
   ],
   "source": [
    "obama_df['contb_receipt_amt'].hist(label='Obama, Barack', bins=50)\n",
    "mccain_df['contb_receipt_amt'].hist(label='McCain, John S', bins=50)\n",
    "plt.legend()"
   ]
  },
  {
   "cell_type": "markdown",
   "metadata": {},
   "source": [
    "##### Explain)\n",
    "bin을 설정하여 histogram을 그려보면 Obama와 McCain이 받은 기부금의 차이가 낮은 금액을 기부한 사람들의 차이에서 발생한 것을 알 수 있습니다. 0~300정도의 금액을 기부한 기부자들의 차이를 확인하면 압도적으로 Obama가 많은 것이 확인됩니다."
   ]
  },
  {
   "cell_type": "markdown",
   "metadata": {},
   "source": [
    "#### Q12) 'Obama, Barack'과 'McCain, John S'에 대해 X축을 기부 금액으로 하고, Y축을 누적 기부금액으로 하는 그래프를 그리시오.\n",
    "- 기부 금액을 오름차순으로 정렬하여 우상향 곡선을 만들 수 있도록 그래프를 그리시오."
   ]
  },
  {
   "cell_type": "code",
   "execution_count": 91,
   "metadata": {},
   "outputs": [
    {
     "data": {
      "text/plain": [
       "<matplotlib.legend.Legend at 0x7fd3a16f6b80>"
      ]
     },
     "execution_count": 91,
     "metadata": {},
     "output_type": "execute_result"
    },
    {
     "data": {
      "image/png": "[encoded data removed]",
      "text/plain": [
       "<Figure size 720x432 with 1 Axes>"
      ]
     },
     "metadata": {
      "needs_background": "light"
     },
     "output_type": "display_data"
    }
   ],
   "source": [
    "obama_sort = sorted(obama_df.groupby(obama_df.contb_receipt_dt)['contb_receipt_amt'].sum())\n",
    "mccain_sort = sorted(mccain_df.groupby(mccain_df.contb_receipt_dt)['contb_receipt_amt'].sum())\n",
    "plt.plot(obama_sort,np.cumsum(obama_sort), label='Obama, Barack')\n",
    "plt.plot(mccain_sort,np.cumsum(mccain_sort), label='McCain, John S')\n",
    "plt.legend()"
   ]
  },
  {
   "cell_type": "markdown",
   "metadata": {},
   "source": [
    "##### Explain)\n",
    "Obama와 McCain이 많은 기부 금액을 받았지만 전체 기부의 대부분은 소규모 기부자로부터 온 것임을 알 수 있습니다. 또한 오바마는 더 많은 기부 금액을 받았을뿐만 아니라 더 많은 수의 기부도 받았습니다."
   ]
  },
  {
   "cell_type": "markdown",
   "metadata": {},
   "source": [
    "#### Q13) 모든 후보자들에 대해 Scatter plot을 그리시오.\n",
    "- X축 : 기부 날짜\n",
    "- Y축 : 기부 금액"
   ]
  },
  {
   "cell_type": "code",
   "execution_count": 42,
   "metadata": {},
   "outputs": [
    {
     "data": {
      "image/png": "[encoded data removed]",
      "text/plain": [
       "<Figure size 432x288 with 1 Axes>"
      ]
     },
     "metadata": {
      "needs_background": "light"
     },
     "output_type": "display_data"
    }
   ],
   "source": [
    "cand_list = ndf.cand_nm.drop_duplicates()\n",
    "\n",
    "for name in cand_list:\n",
    "    each_df = ndf[ndf.cand_nm == name]\n",
    "    plt.scatter(list(each_df.contb_receipt_dt), list(each_df.contb_receipt_amt))"
   ]
  },
  {
   "cell_type": "markdown",
   "metadata": {},
   "source": [
    "##### Explain)\n",
    "모든 후보의 기부자들에 대해 살펴 보았을 때, 대부분 소규모 기부자들이며 2000정도의 기부를 한 기부자들도 확인할 수 있었습니다. 4000이상의 금액을 기부한 기부자들은 극소수며 기부 시기는 후반기에 들어설수록 더 많아지는 것을 확인할 수 있었습니다."
   ]
  }
 ],
 "metadata": {
  "kernelspec": {
   "display_name": "Python 3",
   "language": "python",
   "name": "python3"
  },
  "language_info": {
   "codemirror_mode": {
    "name": "ipython",
    "version": 3
   },
   "file_extension": ".py",
   "mimetype": "text/x-python",
   "name": "python",
   "nbconvert_exporter": "python",
   "pygments_lexer": "ipython3",
   "version": "3.8.8"
  },
  "toc": {
   "base_numbering": 1,
   "nav_menu": {},
   "number_sections": false,
   "sideBar": true,
   "skip_h1_title": false,
   "title_cell": "Table of Contents",
   "title_sidebar": "Contents",
   "toc_cell": false,
   "toc_position": {},
   "toc_section_display": true,
   "toc_window_display": false
  }
 },
 "nbformat": 4,
 "nbformat_minor": 4
}
