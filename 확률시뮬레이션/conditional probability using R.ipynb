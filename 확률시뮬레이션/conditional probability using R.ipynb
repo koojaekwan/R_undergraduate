{
 "cells": [
  {
   "cell_type": "code",
   "execution_count": 21,
   "metadata": {
    "collapsed": false
   },
   "outputs": [],
   "source": [
    "#Let’s simulate a family with two children.\n",
    "#Each child is independently determined as a son or daughter with a half chance.\n",
    "#Each child is born on Monday, Tuesday, Wednesday, Thursday, Friday, Saturday, or Sunday with probability\n",
    "#1/7.\n",
    "#Using sample , we can simulate such family."
   ]
  },
  {
   "cell_type": "code",
   "execution_count": 22,
   "metadata": {
    "collapsed": false
   },
   "outputs": [
    {
     "data": {
      "text/html": [
       "<ol class=list-inline>\n",
       "\t<li>'Son'</li>\n",
       "\t<li>'Thu'</li>\n",
       "</ol>\n"
      ],
      "text/latex": [
       "\\begin{enumerate*}\n",
       "\\item 'Son'\n",
       "\\item 'Thu'\n",
       "\\end{enumerate*}\n"
      ],
      "text/markdown": [
       "1. 'Son'\n",
       "2. 'Thu'\n",
       "\n",
       "\n"
      ],
      "text/plain": [
       "[1] \"Son\" \"Thu\""
      ]
     },
     "metadata": {},
     "output_type": "display_data"
    }
   ],
   "source": [
    "# randomly simulated first baby\n",
    "gender1 <- sample(c(\"Son\",\"Daughter\"), 1)\n",
    "day1 <- sample(c(\"Mon\", \"Tue\", \"Wed\", \"Thu\", \"Fri\", \"Sat\", \"Sun\"), 1)\n",
    "(first <- c(gender1, day1))"
   ]
  },
  {
   "cell_type": "code",
   "execution_count": 23,
   "metadata": {
    "collapsed": false
   },
   "outputs": [
    {
     "data": {
      "text/html": [
       "<ol class=list-inline>\n",
       "\t<li>'Son'</li>\n",
       "\t<li>'Wed'</li>\n",
       "</ol>\n"
      ],
      "text/latex": [
       "\\begin{enumerate*}\n",
       "\\item 'Son'\n",
       "\\item 'Wed'\n",
       "\\end{enumerate*}\n"
      ],
      "text/markdown": [
       "1. 'Son'\n",
       "2. 'Wed'\n",
       "\n",
       "\n"
      ],
      "text/plain": [
       "[1] \"Son\" \"Wed\""
      ]
     },
     "metadata": {},
     "output_type": "display_data"
    }
   ],
   "source": [
    "# randomly simulated second baby\n",
    "gender2 <- sample(c(\"Son\",\"Daughter\"), 1)\n",
    "day2 <- sample(c(\"Mon\", \"Tue\", \"Wed\", \"Thu\", \"Fri\", \"Sat\", \"Sun\"), 1)\n",
    "(second <- c(gender2, day2))"
   ]
  },
  {
   "cell_type": "code",
   "execution_count": 24,
   "metadata": {
    "collapsed": false
   },
   "outputs": [],
   "source": [
    "#1. \n",
    "#What is the probability that the second child is also a son when the first is a son?\n",
    "#Using a loop, i.e., repeat lots of times the above code, check your answer"
   ]
  },
  {
   "cell_type": "code",
   "execution_count": 25,
   "metadata": {
    "collapsed": false
   },
   "outputs": [
    {
     "data": {
      "text/html": [
       "0.49619494656946"
      ],
      "text/latex": [
       "0.49619494656946"
      ],
      "text/markdown": [
       "0.49619494656946"
      ],
      "text/plain": [
       "[1] 0.4961949"
      ]
     },
     "metadata": {},
     "output_type": "display_data"
    },
    {
     "data": {
      "text/html": [
       "0.49619494656946"
      ],
      "text/latex": [
       "0.49619494656946"
      ],
      "text/markdown": [
       "0.49619494656946"
      ],
      "text/plain": [
       "[1] 0.4961949"
      ]
     },
     "metadata": {},
     "output_type": "display_data"
    }
   ],
   "source": [
    "#method 1\n",
    "n<-100000\n",
    "gender1 <- sample(c(\"son\", \"daughter\"), n, replace=TRUE)                 #복원추출\n",
    "gender2 <- sample(c(\"son\", \"daughter\"), n, replace=TRUE)\n",
    "new_n <- gender2[gender1==\"son\"]\n",
    "sum(new_n==\"son\")/length(new_n)\n",
    "\n",
    "\n",
    "\n",
    "\n",
    "#method 2\n",
    "data_gender<-data.frame(gender1,gender2)\n",
    "k<-subset(data_gender,gender1==\"son\")\n",
    "l<-subset(data_gender,gender1==\"son\" & gender2==\"son\")\n",
    "nrow(l)/nrow(k)                                                          # 1/2"
   ]
  },
  {
   "cell_type": "code",
   "execution_count": 26,
   "metadata": {
    "collapsed": false
   },
   "outputs": [],
   "source": [
    "#2.\n",
    "#One of child is a son. Then what is the conditional probability that the another child is also a son?\n",
    "#Using a loop, i.e., repeat lots of times the above code, check your answer."
   ]
  },
  {
   "cell_type": "code",
   "execution_count": 27,
   "metadata": {
    "collapsed": false
   },
   "outputs": [
    {
     "data": {
      "text/html": [
       "0.332484976081656"
      ],
      "text/latex": [
       "0.332484976081656"
      ],
      "text/markdown": [
       "0.332484976081656"
      ],
      "text/plain": [
       "[1] 0.332485"
      ]
     },
     "metadata": {},
     "output_type": "display_data"
    },
    {
     "data": {
      "text/html": [
       "0.332484976081656"
      ],
      "text/latex": [
       "0.332484976081656"
      ],
      "text/markdown": [
       "0.332484976081656"
      ],
      "text/plain": [
       "[1] 0.332485"
      ]
     },
     "metadata": {},
     "output_type": "display_data"
    }
   ],
   "source": [
    "#method 1\n",
    "n<-100000\n",
    "gender1 <- sample(c(\"son\", \"daughter\"), n, replace=TRUE)\n",
    "gender2 <- sample(c(\"son\", \"daughter\"), n, replace=TRUE)\n",
    "gender <- data.frame(gender1, gender2)\n",
    "sons <- subset(gender,(gender1==\"son\")|(gender2==\"son\"))\n",
    "\n",
    "count<-subset(sons,(gender1==\"son\"& gender2==\"son\"))\n",
    "nrow(count)/nrow(sons)\n",
    "\n",
    "\n",
    "\n",
    "#method 2\n",
    "data<-data.frame(gender1,gender2)\n",
    "k<-subset(data,gender1==\"son\" |gender2==\"son\")\n",
    "l<-subset(data,gender1==\"son\" & gender2==\"son\")\n",
    "nrow(l)/nrow(k)                                                        #1/3"
   ]
  },
  {
   "cell_type": "code",
   "execution_count": 28,
   "metadata": {
    "collapsed": false
   },
   "outputs": [],
   "source": [
    "#3\n",
    "#One of child is a son and born on Monday. Then what is the conditional probability that the another child is also\n",
    "#a son?\n",
    "#Using a loop, i.e., repeat lots of times the above code, check your answer."
   ]
  },
  {
   "cell_type": "code",
   "execution_count": 29,
   "metadata": {
    "collapsed": false
   },
   "outputs": [
    {
     "data": {
      "text/html": [
       "0.486974092516418"
      ],
      "text/latex": [
       "0.486974092516418"
      ],
      "text/markdown": [
       "0.486974092516418"
      ],
      "text/plain": [
       "[1] 0.4869741"
      ]
     },
     "metadata": {},
     "output_type": "display_data"
    }
   ],
   "source": [
    "n<-100000\n",
    "gender1 <- sample(c(\"son\", \"daughter\"), n, replace=TRUE)\n",
    "day1 <- sample(c(\"Mon\",\"Tue\", \"Wed\", \"Thu\", \"Fri\", \"Sat\", \"Sun\"),n,replace =TRUE)\n",
    "gender2 <- sample(c(\"son\", \"daughter\"), n, replace=TRUE)\n",
    "day2 <- sample(c(\"Mon\",\"Tue\", \"Wed\", \"Thu\", \"Fri\", \"Sat\", \"Sun\"),n,replace =TRUE)\n",
    "\n",
    "gender<-data.frame(gender1,day1,gender2,day2)\n",
    "\n",
    "k<-subset(gender,(gender1==\"son\" & day1==\"Mon\") | (gender2==\"son\" & day2==\"Mon\"))\n",
    "L<-subset(gender,(gender1==\"son\" & day1==\"Mon\")&(gender2==\"son\") |\n",
    "                 (gender2==\"son\" & day2==\"Mon\") & (gender1==\"son\"))\n",
    "\n",
    "nrow(L)/nrow(k)                                                        #13/27"
   ]
  }
 ],
 "metadata": {
  "kernelspec": {
   "display_name": "R",
   "language": "R",
   "name": "ir"
  },
  "language_info": {
   "codemirror_mode": "r",
   "file_extension": ".r",
   "mimetype": "text/x-r-source",
   "name": "R",
   "pygments_lexer": "r",
   "version": "3.5.0"
  }
 },
 "nbformat": 4,
 "nbformat_minor": 2
}
