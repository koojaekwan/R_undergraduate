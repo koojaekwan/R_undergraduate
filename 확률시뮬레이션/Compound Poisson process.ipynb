{
 "cells": [
  {
   "cell_type": "code",
   "execution_count": 1,
   "metadata": {
    "collapsed": true
   },
   "outputs": [],
   "source": [
    "#This docoument demonstrates how simulate a compound Poisson process. Consider a shop where customers arrive in an exponential distribution with rate . mean of . The number of customers for each arrival follows a geometric distribution with parameter plus one. mean of . expectation of the number of customers for each arrival is . All random values are independent. Example of generating exponential random variables:"
   ]
  },
  {
   "cell_type": "code",
   "execution_count": 2,
   "metadata": {
    "collapsed": false
   },
   "outputs": [
    {
     "data": {
      "text/html": [
       "0.0107452791417018"
      ],
      "text/latex": [
       "0.0107452791417018"
      ],
      "text/markdown": [
       "0.0107452791417018"
      ],
      "text/plain": [
       "[1] 0.01074528"
      ]
     },
     "metadata": {},
     "output_type": "display_data"
    }
   ],
   "source": [
    "lambda <- 20\n",
    "rexp(1, lambda)"
   ]
  },
  {
   "cell_type": "code",
   "execution_count": 3,
   "metadata": {
    "collapsed": false
   },
   "outputs": [
    {
     "data": {
      "text/html": [
       "<ol class=list-inline>\n",
       "\t<li>0.0257850565556435</li>\n",
       "\t<li>0.0795792521571353</li>\n",
       "\t<li>0.0774542042319415</li>\n",
       "\t<li>0.00466362605606084</li>\n",
       "\t<li>0.0549097950549281</li>\n",
       "</ol>\n"
      ],
      "text/latex": [
       "\\begin{enumerate*}\n",
       "\\item 0.0257850565556435\n",
       "\\item 0.0795792521571353\n",
       "\\item 0.0774542042319415\n",
       "\\item 0.00466362605606084\n",
       "\\item 0.0549097950549281\n",
       "\\end{enumerate*}\n"
      ],
      "text/markdown": [
       "1. 0.0257850565556435\n",
       "2. 0.0795792521571353\n",
       "3. 0.0774542042319415\n",
       "4. 0.00466362605606084\n",
       "5. 0.0549097950549281\n",
       "\n",
       "\n"
      ],
      "text/plain": [
       "[1] 0.025785057 0.079579252 0.077454204 0.004663626 0.054909795"
      ]
     },
     "metadata": {},
     "output_type": "display_data"
    }
   ],
   "source": [
    "lambda <- 20\n",
    "num_rv <- 5\n",
    "rexp(num_rv, lambda)"
   ]
  },
  {
   "cell_type": "code",
   "execution_count": 4,
   "metadata": {
    "collapsed": true
   },
   "outputs": [],
   "source": [
    "#From time 0 to 1, how many times will customers arrive? Of course, this is random. num_arrivals represents the total arrival numbers up to time 1."
   ]
  },
  {
   "cell_type": "code",
   "execution_count": 5,
   "metadata": {
    "collapsed": false
   },
   "outputs": [
    {
     "data": {
      "text/html": [
       "<ol class=list-inline>\n",
       "\t<li>0.0112844179389409</li>\n",
       "\t<li>0.0231848040595651</li>\n",
       "\t<li>0.0283902023220435</li>\n",
       "\t<li>0.165679083383622</li>\n",
       "\t<li>0.0604185053592032</li>\n",
       "\t<li>0.0330116926692426</li>\n",
       "\t<li>0.0558590656591064</li>\n",
       "\t<li>0.0643227073808617</li>\n",
       "\t<li>0.00741138919256628</li>\n",
       "\t<li>0.016912533948198</li>\n",
       "\t<li>0.0400867289842522</li>\n",
       "\t<li>0.0266558656003326</li>\n",
       "\t<li>0.0201315351063386</li>\n",
       "\t<li>0.00752016706392169</li>\n",
       "\t<li>0.0170643882603638</li>\n",
       "\t<li>0.226399649439461</li>\n",
       "\t<li>0.0717381883362369</li>\n",
       "\t<li>0.00220567827569987</li>\n",
       "\t<li>2.64600617811084e-05</li>\n",
       "\t<li>0.0535839602795845</li>\n",
       "\t<li>0.045751755403117</li>\n",
       "\t<li>0.0363671061827629</li>\n",
       "</ol>\n"
      ],
      "text/latex": [
       "\\begin{enumerate*}\n",
       "\\item 0.0112844179389409\n",
       "\\item 0.0231848040595651\n",
       "\\item 0.0283902023220435\n",
       "\\item 0.165679083383622\n",
       "\\item 0.0604185053592032\n",
       "\\item 0.0330116926692426\n",
       "\\item 0.0558590656591064\n",
       "\\item 0.0643227073808617\n",
       "\\item 0.00741138919256628\n",
       "\\item 0.016912533948198\n",
       "\\item 0.0400867289842522\n",
       "\\item 0.0266558656003326\n",
       "\\item 0.0201315351063386\n",
       "\\item 0.00752016706392169\n",
       "\\item 0.0170643882603638\n",
       "\\item 0.226399649439461\n",
       "\\item 0.0717381883362369\n",
       "\\item 0.00220567827569987\n",
       "\\item 2.64600617811084e-05\n",
       "\\item 0.0535839602795845\n",
       "\\item 0.045751755403117\n",
       "\\item 0.0363671061827629\n",
       "\\end{enumerate*}\n"
      ],
      "text/markdown": [
       "1. 0.0112844179389409\n",
       "2. 0.0231848040595651\n",
       "3. 0.0283902023220435\n",
       "4. 0.165679083383622\n",
       "5. 0.0604185053592032\n",
       "6. 0.0330116926692426\n",
       "7. 0.0558590656591064\n",
       "8. 0.0643227073808617\n",
       "9. 0.00741138919256628\n",
       "10. 0.016912533948198\n",
       "11. 0.0400867289842522\n",
       "12. 0.0266558656003326\n",
       "13. 0.0201315351063386\n",
       "14. 0.00752016706392169\n",
       "15. 0.0170643882603638\n",
       "16. 0.226399649439461\n",
       "17. 0.0717381883362369\n",
       "18. 0.00220567827569987\n",
       "19. 2.64600617811084e-05\n",
       "20. 0.0535839602795845\n",
       "21. 0.045751755403117\n",
       "22. 0.0363671061827629\n",
       "\n",
       "\n"
      ],
      "text/plain": [
       " [1] 1.128442e-02 2.318480e-02 2.839020e-02 1.656791e-01 6.041851e-02\n",
       " [6] 3.301169e-02 5.585907e-02 6.432271e-02 7.411389e-03 1.691253e-02\n",
       "[11] 4.008673e-02 2.665587e-02 2.013154e-02 7.520167e-03 1.706439e-02\n",
       "[16] 2.263996e-01 7.173819e-02 2.205678e-03 2.646006e-05 5.358396e-02\n",
       "[21] 4.575176e-02 3.636711e-02"
      ]
     },
     "metadata": {},
     "output_type": "display_data"
    },
    {
     "data": {
      "text/html": [
       "21"
      ],
      "text/latex": [
       "21"
      ],
      "text/markdown": [
       "21"
      ],
      "text/plain": [
       "[1] 21"
      ]
     },
     "metadata": {},
     "output_type": "display_data"
    }
   ],
   "source": [
    "arrivals <- numeric()\n",
    "while (sum(arrivals)<1){\n",
    "arrivals <- c(arrivals, rexp(1, lambda))   \n",
    "} \n",
    "num_arrivals <- length(arrivals) - 1\n",
    "\n",
    "arrivals\n",
    "num_arrivals"
   ]
  },
  {
   "cell_type": "code",
   "execution_count": 7,
   "metadata": {
    "collapsed": false
   },
   "outputs": [],
   "source": [
    "#The number of cumstomers in each arrival is determined by a geometric distribution plus one."
   ]
  },
  {
   "cell_type": "code",
   "execution_count": 8,
   "metadata": {
    "collapsed": false
   },
   "outputs": [
    {
     "data": {
      "text/html": [
       "4"
      ],
      "text/latex": [
       "4"
      ],
      "text/markdown": [
       "4"
      ],
      "text/plain": [
       "[1] 4"
      ]
     },
     "metadata": {},
     "output_type": "display_data"
    }
   ],
   "source": [
    "p = 0.4\n",
    "(num_customer <- rgeom(1, p) + 1)  "
   ]
  },
  {
   "cell_type": "code",
   "execution_count": 9,
   "metadata": {
    "collapsed": true
   },
   "outputs": [],
   "source": [
    "#The following plot represents the customer arrivals up to time 1. You may use loop, until the total sum of arrival exceeds time 1. Inside the loop, you may generate the random numbers of cumstomers and assign to a vector. To plot stair type graph, use type='s' ."
   ]
  },
  {
   "cell_type": "code",
   "execution_count": 10,
   "metadata": {
    "collapsed": false
   },
   "outputs": [
    {
     "data": {
      "image/png": "[encoded data removed]",
      "text/plain": [
       "plot without title"
      ]
     },
     "metadata": {},
     "output_type": "display_data"
    }
   ],
   "source": [
    "num_customer<-rgeom(arrivals,p)+1\n",
    "\n",
    "plot(cumsum(arrivals),cumsum(num_customer),type=\"s\",ylab=\"num of customer\",xlab=\"arrival time\")"
   ]
  },
  {
   "cell_type": "code",
   "execution_count": 11,
   "metadata": {
    "collapsed": true
   },
   "outputs": [],
   "source": [
    "#In this case, the total number of customer up to time 1 is:"
   ]
  },
  {
   "cell_type": "code",
   "execution_count": 12,
   "metadata": {
    "collapsed": false
   },
   "outputs": [
    {
     "data": {
      "text/html": [
       "46"
      ],
      "text/latex": [
       "46"
      ],
      "text/markdown": [
       "46"
      ],
      "text/plain": [
       "[1] 46"
      ]
     },
     "metadata": {},
     "output_type": "display_data"
    },
    {
     "data": {
      "text/html": [
       "46"
      ],
      "text/latex": [
       "46"
      ],
      "text/markdown": [
       "46"
      ],
      "text/plain": [
       "[1] 46"
      ]
     },
     "metadata": {},
     "output_type": "display_data"
    }
   ],
   "source": [
    "cumsum(num_customer)[cumsum(num_customer)==max(cumsum(num_customer))]\n",
    "cumsum(num_customer)[length(num_customer)]"
   ]
  },
  {
   "cell_type": "code",
   "execution_count": 13,
   "metadata": {
    "collapsed": true
   },
   "outputs": [],
   "source": [
    "#Repeat the above procedure and draw more lines with different colors."
   ]
  },
  {
   "cell_type": "code",
   "execution_count": 14,
   "metadata": {
    "collapsed": false
   },
   "outputs": [
    {
     "data": {
      "image/png": "[encoded data removed]",
      "text/plain": [
       "plot without title"
      ]
     },
     "metadata": {},
     "output_type": "display_data"
    }
   ],
   "source": [
    "lambda<-20\n",
    "i<- numeric()\n",
    "p<-0.4\n",
    "\n",
    "for(koo in 1:4){\n",
    "  while (sum(i)<1){\n",
    "    i <- c(i, rexp(1, lambda))\n",
    "  }\n",
    "  assign(paste0(\"arrivals\",koo),i)                      #문자열을 for문에 넣어 객체를 자동생성\n",
    "  i<- numeric()\n",
    "}\n",
    "\n",
    "num_arrivals1 <- length(arrivals1) - 1\n",
    "num_arrivals2 <- length(arrivals2) - 1\n",
    "num_arrivals3 <- length(arrivals3) - 1\n",
    "num_arrivals4 <- length(arrivals4) - 1\n",
    "\n",
    "\n",
    "num_customer1<-rgeom(arrivals1,p)+1\n",
    "num_customer2<-rgeom(arrivals2,p)+1\n",
    "num_customer3<-rgeom(arrivals3,p)+1\n",
    "num_customer4<-rgeom(arrivals4,p)+1\n",
    "\n",
    "\n",
    "\n",
    "\n",
    "\n",
    "plot(cumsum(arrivals1),cumsum(num_customer1),type=\"s\",ylab=\"num of customer\",xlab=\"arrival time\",ylim=c(0,80))\n",
    "lines(cumsum(arrivals2),cumsum(num_customer2),type=\"s\",col=\"red\")\n",
    "lines(cumsum(arrivals3),cumsum(num_customer3),type=\"s\",col=\"green\")\n",
    "lines(cumsum(arrivals4),cumsum(num_customer4),type=\"s\",col=\"blue\")\n"
   ]
  },
  {
   "cell_type": "code",
   "execution_count": 15,
   "metadata": {
    "collapsed": true
   },
   "outputs": [],
   "source": [
    "#Now simulate this procedure up to 1000 times. first, compute the total number of customers up to time 1 for each simulation. second, compute the mean of the total number of customers up to time 1 for each simulation. third, plot the means of the total number of customers with simulation number."
   ]
  },
  {
   "cell_type": "code",
   "execution_count": 17,
   "metadata": {
    "collapsed": false
   },
   "outputs": [
    {
     "data": {
      "image/png": "[encoded data removed]",
      "text/plain": [
       "plot without title"
      ]
     },
     "metadata": {},
     "output_type": "display_data"
    },
    {
     "data": {
      "image/png": "[encoded data removed]",
      "text/plain": [
       "plot without title"
      ]
     },
     "metadata": {},
     "output_type": "display_data"
    }
   ],
   "source": [
    "library(dplyr)            #cummean을 사용하기 위해서는 dplyr 라이브러리가 필요\n",
    "\n",
    "n<-1000\n",
    "k<-c()\n",
    "for(i in 1:n){\n",
    "  arrivals1<-numeric()\n",
    "  while (sum(arrivals1)<1) {\n",
    "    arrivals1<-c(arrivals1,rexp(1,lambda))\n",
    "  }\n",
    "  num_arrivals1<-length(arrivals1)-1\n",
    "  num_customer1<-rgeom(num_arrivals1,0.4)+1  \n",
    "  \n",
    "  a<-cumsum(num_customer1)[length(num_customer1)]\n",
    "  \n",
    "  k[i]<-a\n",
    "}\n",
    "\n",
    "plot(1:n,cummean(k),type=\"l\",xlab=\"Number of simulation\",ylab=\"Mean of customers\")\n",
    "plot(1:n,cumsum(k)/(1:1000),type=\"l\",xlab=\"Number of simulation\",ylab=\"Mean of customers\")            #cummean을 꼭 사용하지 않아도 됨"
   ]
  },
  {
   "cell_type": "code",
   "execution_count": null,
   "metadata": {
    "collapsed": true
   },
   "outputs": [],
   "source": [
    "#Question : Which value does the mean of total num of customer converge with increasing simulation number?  #50\n",
    "\n",
    "#Explain the theoritical value of the mean of total num of customer. #lambda=20인 지수분포는 사건이 발생하고 다음 사건이 발생하는데 걸리는 기대시간이 1/20이므로 #1시간동안 20번의 사건발생 기대가 가능하다. 즉, 총 20팀이 1시간동안 올것임 #p=0.4인 기하분포이므로 기댓값이 2.5명이 한팀 당 속해있을 것임 #따라서 평균 총 명수 2.5*20 = 50명 이다."
   ]
  }
 ],
 "metadata": {
  "kernelspec": {
   "display_name": "R",
   "language": "R",
   "name": "ir"
  },
  "language_info": {
   "codemirror_mode": "r",
   "file_extension": ".r",
   "mimetype": "text/x-r-source",
   "name": "R",
   "pygments_lexer": "r",
   "version": "3.5.0"
  }
 },
 "nbformat": 4,
 "nbformat_minor": 2
}
